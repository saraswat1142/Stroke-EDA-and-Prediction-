{
  "nbformat": 4,
  "nbformat_minor": 0,
  "metadata": {
    "colab": {
      "provenance": []
    },
    "kernelspec": {
      "name": "python3",
      "display_name": "Python 3"
    },
    "language_info": {
      "name": "python"
    }
  },
  "cells": [
    {
      "cell_type": "code",
      "execution_count": null,
      "metadata": {
        "colab": {
          "base_uri": "https://localhost:8080/"
        },
        "id": "RbSxTiRTL6qH",
        "outputId": "27b62579-0ff8-45bd-ef89-1e41d28498d8"
      },
      "outputs": [
        {
          "output_type": "stream",
          "name": "stdout",
          "text": [
            "Looking in indexes: https://pypi.org/simple, https://us-python.pkg.dev/colab-wheels/public/simple/\n",
            "Requirement already satisfied: feature-engine in /usr/local/lib/python3.7/dist-packages (1.4.0)\n",
            "Requirement already satisfied: pandas>=1.0.3 in /usr/local/lib/python3.7/dist-packages (from feature-engine) (1.3.5)\n",
            "Requirement already satisfied: scikit-learn>=1.0.0 in /usr/local/lib/python3.7/dist-packages (from feature-engine) (1.0.2)\n",
            "Requirement already satisfied: scipy>=1.4.1 in /usr/local/lib/python3.7/dist-packages (from feature-engine) (1.7.3)\n",
            "Requirement already satisfied: numpy>=1.18.2 in /usr/local/lib/python3.7/dist-packages (from feature-engine) (1.21.6)\n",
            "Requirement already satisfied: statsmodels>=0.11.1 in /usr/local/lib/python3.7/dist-packages (from feature-engine) (0.12.2)\n",
            "Requirement already satisfied: python-dateutil>=2.7.3 in /usr/local/lib/python3.7/dist-packages (from pandas>=1.0.3->feature-engine) (2.8.2)\n",
            "Requirement already satisfied: pytz>=2017.3 in /usr/local/lib/python3.7/dist-packages (from pandas>=1.0.3->feature-engine) (2022.6)\n",
            "Requirement already satisfied: six>=1.5 in /usr/local/lib/python3.7/dist-packages (from python-dateutil>=2.7.3->pandas>=1.0.3->feature-engine) (1.15.0)\n",
            "Requirement already satisfied: joblib>=0.11 in /usr/local/lib/python3.7/dist-packages (from scikit-learn>=1.0.0->feature-engine) (1.2.0)\n",
            "Requirement already satisfied: threadpoolctl>=2.0.0 in /usr/local/lib/python3.7/dist-packages (from scikit-learn>=1.0.0->feature-engine) (3.1.0)\n",
            "Requirement already satisfied: patsy>=0.5 in /usr/local/lib/python3.7/dist-packages (from statsmodels>=0.11.1->feature-engine) (0.5.3)\n"
          ]
        }
      ],
      "source": [
        "!pip install feature-engine\n",
        "#libraries we are going to use\n",
        "import numpy as np # linear algebra\n",
        "import pandas as pd # data processing\n",
        "import pandas_profiling as pp\n",
        "import plotly.express as px #visualization\n",
        "from plotly.subplots import make_subplots #visualization\n",
        "import matplotlib.pyplot as plt#visualization\n",
        "import seaborn as sns #visualization\n",
        "import plotly.graph_objects as go #visualization\n",
        "# from colorama import Fore, Back, Style #change strings color \n",
        "from sklearn.model_selection import train_test_split #split data\n",
        "from feature_engine.selection import SelectBySingleFeaturePerformance #feature selection\n",
        "from sklearn.metrics import confusion_matrix #confusion_matrix\n",
        "from sklearn.metrics import roc_auc_score, roc_curve #metrics\n",
        "from sklearn.metrics import precision_score, recall_score, f1_score,accuracy_score #metrics\n",
        "from sklearn.model_selection import cross_val_score #cross validation\n",
        "from sklearn.model_selection import KFold #cross validation by kfold\n",
        "from sklearn.model_selection import GridSearchCV #find best parameter \n",
        "from sklearn.ensemble import RandomForestClassifier #ML model\n",
        "from sklearn.linear_model import LogisticRegression #ML model\n",
        "from sklearn.ensemble import AdaBoostClassifier #ML model\n",
        "from xgboost import XGBClassifier #ML model\n",
        "from sklearn.tree import DecisionTreeClassifier #ML model\n",
        "from imblearn.over_sampling import SMOTE #oversample data\n",
        "from sklearn import preprocessing #label encoding"
      ]
    },
    {
      "cell_type": "code",
      "source": [
        "from sklearn.metrics import accuracy_score, roc_auc_score, roc_curve, classification_report\n",
        "# import scikitplot as skplt\n",
        "\n",
        "from imblearn.over_sampling import RandomOverSampler"
      ],
      "metadata": {
        "id": "XzjLHj43MZFO"
      },
      "execution_count": null,
      "outputs": []
    },
    {
      "cell_type": "code",
      "source": [
        "Train=pd.read_csv(\"/content/healthcare-dataset-stroke-data.csv\")\n",
        "Train.head()"
      ],
      "metadata": {
        "colab": {
          "base_uri": "https://localhost:8080/",
          "height": 206
        },
        "id": "DBlCJRtPMiYu",
        "outputId": "0329149b-5337-40ac-f319-09ccafb3238b"
      },
      "execution_count": null,
      "outputs": [
        {
          "output_type": "execute_result",
          "data": {
            "text/plain": [
              "      id  gender   age  hypertension  heart_disease ever_married  \\\n",
              "0   9046    Male  67.0             0              1          Yes   \n",
              "1  51676  Female  61.0             0              0          Yes   \n",
              "2  31112    Male  80.0             0              1          Yes   \n",
              "3  60182  Female  49.0             0              0          Yes   \n",
              "4   1665  Female  79.0             1              0          Yes   \n",
              "\n",
              "       work_type Residence_type  avg_glucose_level   bmi   smoking_status  \\\n",
              "0        Private          Urban             228.69  36.6  formerly smoked   \n",
              "1  Self-employed          Rural             202.21   NaN     never smoked   \n",
              "2        Private          Rural             105.92  32.5     never smoked   \n",
              "3        Private          Urban             171.23  34.4           smokes   \n",
              "4  Self-employed          Rural             174.12  24.0     never smoked   \n",
              "\n",
              "   stroke  \n",
              "0       1  \n",
              "1       1  \n",
              "2       1  \n",
              "3       1  \n",
              "4       1  "
            ],
            "text/html": [
              "\n",
              "  <div id=\"df-75cd2485-96a2-498d-8cc6-d54cb6d8f94b\">\n",
              "    <div class=\"colab-df-container\">\n",
              "      <div>\n",
              "<style scoped>\n",
              "    .dataframe tbody tr th:only-of-type {\n",
              "        vertical-align: middle;\n",
              "    }\n",
              "\n",
              "    .dataframe tbody tr th {\n",
              "        vertical-align: top;\n",
              "    }\n",
              "\n",
              "    .dataframe thead th {\n",
              "        text-align: right;\n",
              "    }\n",
              "</style>\n",
              "<table border=\"1\" class=\"dataframe\">\n",
              "  <thead>\n",
              "    <tr style=\"text-align: right;\">\n",
              "      <th></th>\n",
              "      <th>id</th>\n",
              "      <th>gender</th>\n",
              "      <th>age</th>\n",
              "      <th>hypertension</th>\n",
              "      <th>heart_disease</th>\n",
              "      <th>ever_married</th>\n",
              "      <th>work_type</th>\n",
              "      <th>Residence_type</th>\n",
              "      <th>avg_glucose_level</th>\n",
              "      <th>bmi</th>\n",
              "      <th>smoking_status</th>\n",
              "      <th>stroke</th>\n",
              "    </tr>\n",
              "  </thead>\n",
              "  <tbody>\n",
              "    <tr>\n",
              "      <th>0</th>\n",
              "      <td>9046</td>\n",
              "      <td>Male</td>\n",
              "      <td>67.0</td>\n",
              "      <td>0</td>\n",
              "      <td>1</td>\n",
              "      <td>Yes</td>\n",
              "      <td>Private</td>\n",
              "      <td>Urban</td>\n",
              "      <td>228.69</td>\n",
              "      <td>36.6</td>\n",
              "      <td>formerly smoked</td>\n",
              "      <td>1</td>\n",
              "    </tr>\n",
              "    <tr>\n",
              "      <th>1</th>\n",
              "      <td>51676</td>\n",
              "      <td>Female</td>\n",
              "      <td>61.0</td>\n",
              "      <td>0</td>\n",
              "      <td>0</td>\n",
              "      <td>Yes</td>\n",
              "      <td>Self-employed</td>\n",
              "      <td>Rural</td>\n",
              "      <td>202.21</td>\n",
              "      <td>NaN</td>\n",
              "      <td>never smoked</td>\n",
              "      <td>1</td>\n",
              "    </tr>\n",
              "    <tr>\n",
              "      <th>2</th>\n",
              "      <td>31112</td>\n",
              "      <td>Male</td>\n",
              "      <td>80.0</td>\n",
              "      <td>0</td>\n",
              "      <td>1</td>\n",
              "      <td>Yes</td>\n",
              "      <td>Private</td>\n",
              "      <td>Rural</td>\n",
              "      <td>105.92</td>\n",
              "      <td>32.5</td>\n",
              "      <td>never smoked</td>\n",
              "      <td>1</td>\n",
              "    </tr>\n",
              "    <tr>\n",
              "      <th>3</th>\n",
              "      <td>60182</td>\n",
              "      <td>Female</td>\n",
              "      <td>49.0</td>\n",
              "      <td>0</td>\n",
              "      <td>0</td>\n",
              "      <td>Yes</td>\n",
              "      <td>Private</td>\n",
              "      <td>Urban</td>\n",
              "      <td>171.23</td>\n",
              "      <td>34.4</td>\n",
              "      <td>smokes</td>\n",
              "      <td>1</td>\n",
              "    </tr>\n",
              "    <tr>\n",
              "      <th>4</th>\n",
              "      <td>1665</td>\n",
              "      <td>Female</td>\n",
              "      <td>79.0</td>\n",
              "      <td>1</td>\n",
              "      <td>0</td>\n",
              "      <td>Yes</td>\n",
              "      <td>Self-employed</td>\n",
              "      <td>Rural</td>\n",
              "      <td>174.12</td>\n",
              "      <td>24.0</td>\n",
              "      <td>never smoked</td>\n",
              "      <td>1</td>\n",
              "    </tr>\n",
              "  </tbody>\n",
              "</table>\n",
              "</div>\n",
              "      <button class=\"colab-df-convert\" onclick=\"convertToInteractive('df-75cd2485-96a2-498d-8cc6-d54cb6d8f94b')\"\n",
              "              title=\"Convert this dataframe to an interactive table.\"\n",
              "              style=\"display:none;\">\n",
              "        \n",
              "  <svg xmlns=\"http://www.w3.org/2000/svg\" height=\"24px\"viewBox=\"0 0 24 24\"\n",
              "       width=\"24px\">\n",
              "    <path d=\"M0 0h24v24H0V0z\" fill=\"none\"/>\n",
              "    <path d=\"M18.56 5.44l.94 2.06.94-2.06 2.06-.94-2.06-.94-.94-2.06-.94 2.06-2.06.94zm-11 1L8.5 8.5l.94-2.06 2.06-.94-2.06-.94L8.5 2.5l-.94 2.06-2.06.94zm10 10l.94 2.06.94-2.06 2.06-.94-2.06-.94-.94-2.06-.94 2.06-2.06.94z\"/><path d=\"M17.41 7.96l-1.37-1.37c-.4-.4-.92-.59-1.43-.59-.52 0-1.04.2-1.43.59L10.3 9.45l-7.72 7.72c-.78.78-.78 2.05 0 2.83L4 21.41c.39.39.9.59 1.41.59.51 0 1.02-.2 1.41-.59l7.78-7.78 2.81-2.81c.8-.78.8-2.07 0-2.86zM5.41 20L4 18.59l7.72-7.72 1.47 1.35L5.41 20z\"/>\n",
              "  </svg>\n",
              "      </button>\n",
              "      \n",
              "  <style>\n",
              "    .colab-df-container {\n",
              "      display:flex;\n",
              "      flex-wrap:wrap;\n",
              "      gap: 12px;\n",
              "    }\n",
              "\n",
              "    .colab-df-convert {\n",
              "      background-color: #E8F0FE;\n",
              "      border: none;\n",
              "      border-radius: 50%;\n",
              "      cursor: pointer;\n",
              "      display: none;\n",
              "      fill: #1967D2;\n",
              "      height: 32px;\n",
              "      padding: 0 0 0 0;\n",
              "      width: 32px;\n",
              "    }\n",
              "\n",
              "    .colab-df-convert:hover {\n",
              "      background-color: #E2EBFA;\n",
              "      box-shadow: 0px 1px 2px rgba(60, 64, 67, 0.3), 0px 1px 3px 1px rgba(60, 64, 67, 0.15);\n",
              "      fill: #174EA6;\n",
              "    }\n",
              "\n",
              "    [theme=dark] .colab-df-convert {\n",
              "      background-color: #3B4455;\n",
              "      fill: #D2E3FC;\n",
              "    }\n",
              "\n",
              "    [theme=dark] .colab-df-convert:hover {\n",
              "      background-color: #434B5C;\n",
              "      box-shadow: 0px 1px 3px 1px rgba(0, 0, 0, 0.15);\n",
              "      filter: drop-shadow(0px 1px 2px rgba(0, 0, 0, 0.3));\n",
              "      fill: #FFFFFF;\n",
              "    }\n",
              "  </style>\n",
              "\n",
              "      <script>\n",
              "        const buttonEl =\n",
              "          document.querySelector('#df-75cd2485-96a2-498d-8cc6-d54cb6d8f94b button.colab-df-convert');\n",
              "        buttonEl.style.display =\n",
              "          google.colab.kernel.accessAllowed ? 'block' : 'none';\n",
              "\n",
              "        async function convertToInteractive(key) {\n",
              "          const element = document.querySelector('#df-75cd2485-96a2-498d-8cc6-d54cb6d8f94b');\n",
              "          const dataTable =\n",
              "            await google.colab.kernel.invokeFunction('convertToInteractive',\n",
              "                                                     [key], {});\n",
              "          if (!dataTable) return;\n",
              "\n",
              "          const docLinkHtml = 'Like what you see? Visit the ' +\n",
              "            '<a target=\"_blank\" href=https://colab.research.google.com/notebooks/data_table.ipynb>data table notebook</a>'\n",
              "            + ' to learn more about interactive tables.';\n",
              "          element.innerHTML = '';\n",
              "          dataTable['output_type'] = 'display_data';\n",
              "          await google.colab.output.renderOutput(dataTable, element);\n",
              "          const docLink = document.createElement('div');\n",
              "          docLink.innerHTML = docLinkHtml;\n",
              "          element.appendChild(docLink);\n",
              "        }\n",
              "      </script>\n",
              "    </div>\n",
              "  </div>\n",
              "  "
            ]
          },
          "metadata": {},
          "execution_count": 3
        }
      ]
    },
    {
      "cell_type": "code",
      "source": [
        "Train.info()"
      ],
      "metadata": {
        "colab": {
          "base_uri": "https://localhost:8080/"
        },
        "id": "hxmJ-b9oNbv7",
        "outputId": "bcc612d8-c170-49e8-9fe9-4ad0e185cf48"
      },
      "execution_count": null,
      "outputs": [
        {
          "output_type": "stream",
          "name": "stdout",
          "text": [
            "<class 'pandas.core.frame.DataFrame'>\n",
            "RangeIndex: 5110 entries, 0 to 5109\n",
            "Data columns (total 12 columns):\n",
            " #   Column             Non-Null Count  Dtype  \n",
            "---  ------             --------------  -----  \n",
            " 0   id                 5110 non-null   int64  \n",
            " 1   gender             5110 non-null   object \n",
            " 2   age                5110 non-null   float64\n",
            " 3   hypertension       5110 non-null   int64  \n",
            " 4   heart_disease      5110 non-null   int64  \n",
            " 5   ever_married       5110 non-null   object \n",
            " 6   work_type          5110 non-null   object \n",
            " 7   Residence_type     5110 non-null   object \n",
            " 8   avg_glucose_level  5110 non-null   float64\n",
            " 9   bmi                4909 non-null   float64\n",
            " 10  smoking_status     5110 non-null   object \n",
            " 11  stroke             5110 non-null   int64  \n",
            "dtypes: float64(3), int64(4), object(5)\n",
            "memory usage: 479.2+ KB\n"
          ]
        }
      ]
    },
    {
      "cell_type": "code",
      "source": [
        "Train.replace(to_replace=\"Urban\", value=1, inplace=True)\n",
        "Train.replace(to_replace=\"Rural\", value=0, inplace=True)\n",
        "\n",
        "Train.replace(to_replace=\"Yes\", value=1, inplace=True)\n",
        "Train.replace(to_replace=\"No\", value=0, inplace=True)"
      ],
      "metadata": {
        "id": "P856NLcDPosF"
      },
      "execution_count": null,
      "outputs": []
    },
    {
      "cell_type": "code",
      "source": [
        "from sklearn.impute import SimpleImputer\n",
        "imputer = SimpleImputer(missing_values=np.nan, strategy='most_frequent')\n",
        "Train = pd.DataFrame(imputer.fit_transform(Train), columns=Train.columns, index=Train.id)\n",
        "Train = Train.reset_index(drop=True)"
      ],
      "metadata": {
        "id": "skBTkd26N2tY"
      },
      "execution_count": null,
      "outputs": []
    },
    {
      "cell_type": "code",
      "source": [
        "Train.isnull().sum()"
      ],
      "metadata": {
        "colab": {
          "base_uri": "https://localhost:8080/"
        },
        "id": "5J8UuQOMOC8I",
        "outputId": "a24bc1f1-c386-461a-c641-be9b37fbee25"
      },
      "execution_count": null,
      "outputs": [
        {
          "output_type": "execute_result",
          "data": {
            "text/plain": [
              "id                   0\n",
              "gender               0\n",
              "age                  0\n",
              "hypertension         0\n",
              "heart_disease        0\n",
              "ever_married         0\n",
              "work_type            0\n",
              "Residence_type       0\n",
              "avg_glucose_level    0\n",
              "bmi                  0\n",
              "smoking_status       0\n",
              "stroke               0\n",
              "dtype: int64"
            ]
          },
          "metadata": {},
          "execution_count": 7
        }
      ]
    },
    {
      "cell_type": "code",
      "source": [
        "Train.info()"
      ],
      "metadata": {
        "id": "_qjxoGMCoiwT",
        "outputId": "6d32c145-88f4-4d9b-b790-a4750af03ca2",
        "colab": {
          "base_uri": "https://localhost:8080/"
        }
      },
      "execution_count": null,
      "outputs": [
        {
          "output_type": "stream",
          "name": "stdout",
          "text": [
            "<class 'pandas.core.frame.DataFrame'>\n",
            "RangeIndex: 5110 entries, 0 to 5109\n",
            "Data columns (total 12 columns):\n",
            " #   Column             Non-Null Count  Dtype \n",
            "---  ------             --------------  ----- \n",
            " 0   id                 5110 non-null   object\n",
            " 1   gender             5110 non-null   object\n",
            " 2   age                5110 non-null   object\n",
            " 3   hypertension       5110 non-null   object\n",
            " 4   heart_disease      5110 non-null   object\n",
            " 5   ever_married       5110 non-null   object\n",
            " 6   work_type          5110 non-null   object\n",
            " 7   Residence_type     5110 non-null   object\n",
            " 8   avg_glucose_level  5110 non-null   object\n",
            " 9   bmi                5110 non-null   object\n",
            " 10  smoking_status     5110 non-null   object\n",
            " 11  stroke             5110 non-null   object\n",
            "dtypes: object(12)\n",
            "memory usage: 479.2+ KB\n"
          ]
        }
      ]
    },
    {
      "cell_type": "code",
      "source": [
        "Train = pd.get_dummies(Train, columns=['work_type', 'smoking_status', 'gender'])\n",
        "Train.drop(columns=['id'], inplace=True)\n",
        "Train.head()"
      ],
      "metadata": {
        "colab": {
          "base_uri": "https://localhost:8080/",
          "height": 288
        },
        "id": "9m3E4nJWOLvJ",
        "outputId": "50fe6002-cdff-453c-99ee-9761ce3512e0"
      },
      "execution_count": null,
      "outputs": [
        {
          "output_type": "execute_result",
          "data": {
            "text/plain": [
              "    age hypertension heart_disease ever_married Residence_type  \\\n",
              "0  67.0            0             1            1              1   \n",
              "1  61.0            0             0            1              0   \n",
              "2  80.0            0             1            1              0   \n",
              "3  49.0            0             0            1              1   \n",
              "4  79.0            1             0            1              0   \n",
              "\n",
              "  avg_glucose_level   bmi stroke  work_type_Govt_job  work_type_Never_worked  \\\n",
              "0            228.69  36.6      1                   0                       0   \n",
              "1            202.21  28.7      1                   0                       0   \n",
              "2            105.92  32.5      1                   0                       0   \n",
              "3            171.23  34.4      1                   0                       0   \n",
              "4            174.12  24.0      1                   0                       0   \n",
              "\n",
              "   work_type_Private  work_type_Self-employed  work_type_children  \\\n",
              "0                  1                        0                   0   \n",
              "1                  0                        1                   0   \n",
              "2                  1                        0                   0   \n",
              "3                  1                        0                   0   \n",
              "4                  0                        1                   0   \n",
              "\n",
              "   smoking_status_Unknown  smoking_status_formerly smoked  \\\n",
              "0                       0                               1   \n",
              "1                       0                               0   \n",
              "2                       0                               0   \n",
              "3                       0                               0   \n",
              "4                       0                               0   \n",
              "\n",
              "   smoking_status_never smoked  smoking_status_smokes  gender_Female  \\\n",
              "0                            0                      0              0   \n",
              "1                            1                      0              1   \n",
              "2                            1                      0              0   \n",
              "3                            0                      1              1   \n",
              "4                            1                      0              1   \n",
              "\n",
              "   gender_Male  gender_Other  \n",
              "0            1             0  \n",
              "1            0             0  \n",
              "2            1             0  \n",
              "3            0             0  \n",
              "4            0             0  "
            ],
            "text/html": [
              "\n",
              "  <div id=\"df-29a9b4cc-c850-4a5a-8db8-df7660635f58\">\n",
              "    <div class=\"colab-df-container\">\n",
              "      <div>\n",
              "<style scoped>\n",
              "    .dataframe tbody tr th:only-of-type {\n",
              "        vertical-align: middle;\n",
              "    }\n",
              "\n",
              "    .dataframe tbody tr th {\n",
              "        vertical-align: top;\n",
              "    }\n",
              "\n",
              "    .dataframe thead th {\n",
              "        text-align: right;\n",
              "    }\n",
              "</style>\n",
              "<table border=\"1\" class=\"dataframe\">\n",
              "  <thead>\n",
              "    <tr style=\"text-align: right;\">\n",
              "      <th></th>\n",
              "      <th>age</th>\n",
              "      <th>hypertension</th>\n",
              "      <th>heart_disease</th>\n",
              "      <th>ever_married</th>\n",
              "      <th>Residence_type</th>\n",
              "      <th>avg_glucose_level</th>\n",
              "      <th>bmi</th>\n",
              "      <th>stroke</th>\n",
              "      <th>work_type_Govt_job</th>\n",
              "      <th>work_type_Never_worked</th>\n",
              "      <th>work_type_Private</th>\n",
              "      <th>work_type_Self-employed</th>\n",
              "      <th>work_type_children</th>\n",
              "      <th>smoking_status_Unknown</th>\n",
              "      <th>smoking_status_formerly smoked</th>\n",
              "      <th>smoking_status_never smoked</th>\n",
              "      <th>smoking_status_smokes</th>\n",
              "      <th>gender_Female</th>\n",
              "      <th>gender_Male</th>\n",
              "      <th>gender_Other</th>\n",
              "    </tr>\n",
              "  </thead>\n",
              "  <tbody>\n",
              "    <tr>\n",
              "      <th>0</th>\n",
              "      <td>67.0</td>\n",
              "      <td>0</td>\n",
              "      <td>1</td>\n",
              "      <td>1</td>\n",
              "      <td>1</td>\n",
              "      <td>228.69</td>\n",
              "      <td>36.6</td>\n",
              "      <td>1</td>\n",
              "      <td>0</td>\n",
              "      <td>0</td>\n",
              "      <td>1</td>\n",
              "      <td>0</td>\n",
              "      <td>0</td>\n",
              "      <td>0</td>\n",
              "      <td>1</td>\n",
              "      <td>0</td>\n",
              "      <td>0</td>\n",
              "      <td>0</td>\n",
              "      <td>1</td>\n",
              "      <td>0</td>\n",
              "    </tr>\n",
              "    <tr>\n",
              "      <th>1</th>\n",
              "      <td>61.0</td>\n",
              "      <td>0</td>\n",
              "      <td>0</td>\n",
              "      <td>1</td>\n",
              "      <td>0</td>\n",
              "      <td>202.21</td>\n",
              "      <td>28.7</td>\n",
              "      <td>1</td>\n",
              "      <td>0</td>\n",
              "      <td>0</td>\n",
              "      <td>0</td>\n",
              "      <td>1</td>\n",
              "      <td>0</td>\n",
              "      <td>0</td>\n",
              "      <td>0</td>\n",
              "      <td>1</td>\n",
              "      <td>0</td>\n",
              "      <td>1</td>\n",
              "      <td>0</td>\n",
              "      <td>0</td>\n",
              "    </tr>\n",
              "    <tr>\n",
              "      <th>2</th>\n",
              "      <td>80.0</td>\n",
              "      <td>0</td>\n",
              "      <td>1</td>\n",
              "      <td>1</td>\n",
              "      <td>0</td>\n",
              "      <td>105.92</td>\n",
              "      <td>32.5</td>\n",
              "      <td>1</td>\n",
              "      <td>0</td>\n",
              "      <td>0</td>\n",
              "      <td>1</td>\n",
              "      <td>0</td>\n",
              "      <td>0</td>\n",
              "      <td>0</td>\n",
              "      <td>0</td>\n",
              "      <td>1</td>\n",
              "      <td>0</td>\n",
              "      <td>0</td>\n",
              "      <td>1</td>\n",
              "      <td>0</td>\n",
              "    </tr>\n",
              "    <tr>\n",
              "      <th>3</th>\n",
              "      <td>49.0</td>\n",
              "      <td>0</td>\n",
              "      <td>0</td>\n",
              "      <td>1</td>\n",
              "      <td>1</td>\n",
              "      <td>171.23</td>\n",
              "      <td>34.4</td>\n",
              "      <td>1</td>\n",
              "      <td>0</td>\n",
              "      <td>0</td>\n",
              "      <td>1</td>\n",
              "      <td>0</td>\n",
              "      <td>0</td>\n",
              "      <td>0</td>\n",
              "      <td>0</td>\n",
              "      <td>0</td>\n",
              "      <td>1</td>\n",
              "      <td>1</td>\n",
              "      <td>0</td>\n",
              "      <td>0</td>\n",
              "    </tr>\n",
              "    <tr>\n",
              "      <th>4</th>\n",
              "      <td>79.0</td>\n",
              "      <td>1</td>\n",
              "      <td>0</td>\n",
              "      <td>1</td>\n",
              "      <td>0</td>\n",
              "      <td>174.12</td>\n",
              "      <td>24.0</td>\n",
              "      <td>1</td>\n",
              "      <td>0</td>\n",
              "      <td>0</td>\n",
              "      <td>0</td>\n",
              "      <td>1</td>\n",
              "      <td>0</td>\n",
              "      <td>0</td>\n",
              "      <td>0</td>\n",
              "      <td>1</td>\n",
              "      <td>0</td>\n",
              "      <td>1</td>\n",
              "      <td>0</td>\n",
              "      <td>0</td>\n",
              "    </tr>\n",
              "  </tbody>\n",
              "</table>\n",
              "</div>\n",
              "      <button class=\"colab-df-convert\" onclick=\"convertToInteractive('df-29a9b4cc-c850-4a5a-8db8-df7660635f58')\"\n",
              "              title=\"Convert this dataframe to an interactive table.\"\n",
              "              style=\"display:none;\">\n",
              "        \n",
              "  <svg xmlns=\"http://www.w3.org/2000/svg\" height=\"24px\"viewBox=\"0 0 24 24\"\n",
              "       width=\"24px\">\n",
              "    <path d=\"M0 0h24v24H0V0z\" fill=\"none\"/>\n",
              "    <path d=\"M18.56 5.44l.94 2.06.94-2.06 2.06-.94-2.06-.94-.94-2.06-.94 2.06-2.06.94zm-11 1L8.5 8.5l.94-2.06 2.06-.94-2.06-.94L8.5 2.5l-.94 2.06-2.06.94zm10 10l.94 2.06.94-2.06 2.06-.94-2.06-.94-.94-2.06-.94 2.06-2.06.94z\"/><path d=\"M17.41 7.96l-1.37-1.37c-.4-.4-.92-.59-1.43-.59-.52 0-1.04.2-1.43.59L10.3 9.45l-7.72 7.72c-.78.78-.78 2.05 0 2.83L4 21.41c.39.39.9.59 1.41.59.51 0 1.02-.2 1.41-.59l7.78-7.78 2.81-2.81c.8-.78.8-2.07 0-2.86zM5.41 20L4 18.59l7.72-7.72 1.47 1.35L5.41 20z\"/>\n",
              "  </svg>\n",
              "      </button>\n",
              "      \n",
              "  <style>\n",
              "    .colab-df-container {\n",
              "      display:flex;\n",
              "      flex-wrap:wrap;\n",
              "      gap: 12px;\n",
              "    }\n",
              "\n",
              "    .colab-df-convert {\n",
              "      background-color: #E8F0FE;\n",
              "      border: none;\n",
              "      border-radius: 50%;\n",
              "      cursor: pointer;\n",
              "      display: none;\n",
              "      fill: #1967D2;\n",
              "      height: 32px;\n",
              "      padding: 0 0 0 0;\n",
              "      width: 32px;\n",
              "    }\n",
              "\n",
              "    .colab-df-convert:hover {\n",
              "      background-color: #E2EBFA;\n",
              "      box-shadow: 0px 1px 2px rgba(60, 64, 67, 0.3), 0px 1px 3px 1px rgba(60, 64, 67, 0.15);\n",
              "      fill: #174EA6;\n",
              "    }\n",
              "\n",
              "    [theme=dark] .colab-df-convert {\n",
              "      background-color: #3B4455;\n",
              "      fill: #D2E3FC;\n",
              "    }\n",
              "\n",
              "    [theme=dark] .colab-df-convert:hover {\n",
              "      background-color: #434B5C;\n",
              "      box-shadow: 0px 1px 3px 1px rgba(0, 0, 0, 0.15);\n",
              "      filter: drop-shadow(0px 1px 2px rgba(0, 0, 0, 0.3));\n",
              "      fill: #FFFFFF;\n",
              "    }\n",
              "  </style>\n",
              "\n",
              "      <script>\n",
              "        const buttonEl =\n",
              "          document.querySelector('#df-29a9b4cc-c850-4a5a-8db8-df7660635f58 button.colab-df-convert');\n",
              "        buttonEl.style.display =\n",
              "          google.colab.kernel.accessAllowed ? 'block' : 'none';\n",
              "\n",
              "        async function convertToInteractive(key) {\n",
              "          const element = document.querySelector('#df-29a9b4cc-c850-4a5a-8db8-df7660635f58');\n",
              "          const dataTable =\n",
              "            await google.colab.kernel.invokeFunction('convertToInteractive',\n",
              "                                                     [key], {});\n",
              "          if (!dataTable) return;\n",
              "\n",
              "          const docLinkHtml = 'Like what you see? Visit the ' +\n",
              "            '<a target=\"_blank\" href=https://colab.research.google.com/notebooks/data_table.ipynb>data table notebook</a>'\n",
              "            + ' to learn more about interactive tables.';\n",
              "          element.innerHTML = '';\n",
              "          dataTable['output_type'] = 'display_data';\n",
              "          await google.colab.output.renderOutput(dataTable, element);\n",
              "          const docLink = document.createElement('div');\n",
              "          docLink.innerHTML = docLinkHtml;\n",
              "          element.appendChild(docLink);\n",
              "        }\n",
              "      </script>\n",
              "    </div>\n",
              "  </div>\n",
              "  "
            ]
          },
          "metadata": {},
          "execution_count": 9
        }
      ]
    },
    {
      "cell_type": "code",
      "source": [
        "Train.info()"
      ],
      "metadata": {
        "colab": {
          "base_uri": "https://localhost:8080/"
        },
        "id": "Xl559a1WoTMM",
        "outputId": "4d77c72b-c19c-412d-9278-a065a023796d"
      },
      "execution_count": null,
      "outputs": [
        {
          "output_type": "stream",
          "name": "stdout",
          "text": [
            "<class 'pandas.core.frame.DataFrame'>\n",
            "RangeIndex: 5110 entries, 0 to 5109\n",
            "Data columns (total 20 columns):\n",
            " #   Column                          Non-Null Count  Dtype \n",
            "---  ------                          --------------  ----- \n",
            " 0   age                             5110 non-null   object\n",
            " 1   hypertension                    5110 non-null   object\n",
            " 2   heart_disease                   5110 non-null   object\n",
            " 3   ever_married                    5110 non-null   object\n",
            " 4   Residence_type                  5110 non-null   object\n",
            " 5   avg_glucose_level               5110 non-null   object\n",
            " 6   bmi                             5110 non-null   object\n",
            " 7   stroke                          5110 non-null   object\n",
            " 8   work_type_Govt_job              5110 non-null   uint8 \n",
            " 9   work_type_Never_worked          5110 non-null   uint8 \n",
            " 10  work_type_Private               5110 non-null   uint8 \n",
            " 11  work_type_Self-employed         5110 non-null   uint8 \n",
            " 12  work_type_children              5110 non-null   uint8 \n",
            " 13  smoking_status_Unknown          5110 non-null   uint8 \n",
            " 14  smoking_status_formerly smoked  5110 non-null   uint8 \n",
            " 15  smoking_status_never smoked     5110 non-null   uint8 \n",
            " 16  smoking_status_smokes           5110 non-null   uint8 \n",
            " 17  gender_Female                   5110 non-null   uint8 \n",
            " 18  gender_Male                     5110 non-null   uint8 \n",
            " 19  gender_Other                    5110 non-null   uint8 \n",
            "dtypes: object(8), uint8(12)\n",
            "memory usage: 379.4+ KB\n"
          ]
        }
      ]
    },
    {
      "cell_type": "code",
      "source": [
        "yData = Train.pop('stroke').to_numpy()\n",
        "xData = Train.to_numpy()\n",
        "\n",
        "xData = xData.astype(np.float32)\n",
        "yData = yData.astype(np.float32)\n",
        "xData.shape, yData.shape"
      ],
      "metadata": {
        "colab": {
          "base_uri": "https://localhost:8080/"
        },
        "id": "VCVmOSE5OSwc",
        "outputId": "bd86482d-4b96-46b5-e627-ba970cf8185f"
      },
      "execution_count": null,
      "outputs": [
        {
          "output_type": "execute_result",
          "data": {
            "text/plain": [
              "((5110, 19), (5110,))"
            ]
          },
          "metadata": {},
          "execution_count": 11
        }
      ]
    },
    {
      "cell_type": "code",
      "source": [
        "xData.shape, yData.shape"
      ],
      "metadata": {
        "colab": {
          "base_uri": "https://localhost:8080/"
        },
        "id": "uECCC7p8OavF",
        "outputId": "1bcd4eff-a238-4752-8d7b-e74c0a302ced"
      },
      "execution_count": null,
      "outputs": [
        {
          "output_type": "execute_result",
          "data": {
            "text/plain": [
              "((5110, 19), (5110,))"
            ]
          },
          "metadata": {},
          "execution_count": 12
        }
      ]
    },
    {
      "cell_type": "markdown",
      "source": [
        "Logstic regression model test "
      ],
      "metadata": {
        "id": "NNFtYgg6ho9c"
      }
    },
    {
      "cell_type": "markdown",
      "source": [
        "When train data is 70%"
      ],
      "metadata": {
        "id": "P-yzxDUqSty-"
      }
    },
    {
      "cell_type": "code",
      "source": [
        "SPLIT = int(0.70*len(xData))\n",
        "\n",
        "x_train = xData[:SPLIT]\n",
        "y_train = yData[:SPLIT]\n",
        "\n",
        "x_test = xData[SPLIT:]\n",
        "y_test = yData[SPLIT:]"
      ],
      "metadata": {
        "id": "IbangdSDOfTn"
      },
      "execution_count": null,
      "outputs": []
    },
    {
      "cell_type": "code",
      "source": [
        "LRclassifier = LogisticRegression(max_iter=1000, random_state=1, solver='liblinear', penalty='l1')\n",
        "LRclassifier.fit(x_train, y_train)\n",
        "\n",
        "y_pred_LR = LRclassifier.predict(x_test)"
      ],
      "metadata": {
        "id": "eq-7ogTZOkA4"
      },
      "execution_count": null,
      "outputs": []
    },
    {
      "cell_type": "code",
      "source": [
        "LRAcc = accuracy_score(y_pred_LR, y_test)\n",
        "print('.:. Logistic Regression Accuracy:'+'\\033[1m {:.2f}%'.format(LRAcc*100)+' .:.')"
      ],
      "metadata": {
        "colab": {
          "base_uri": "https://localhost:8080/"
        },
        "id": "FV98zcckQYef",
        "outputId": "31f55eab-b424-4c8a-995e-89bb4759a355"
      },
      "execution_count": null,
      "outputs": [
        {
          "output_type": "stream",
          "name": "stdout",
          "text": [
            ".:. Logistic Regression Accuracy:\u001b[1m 99.87% .:.\n"
          ]
        }
      ]
    },
    {
      "cell_type": "code",
      "source": [
        "from sklearn.metrics import mean_squared_error\n",
        "mse=mean_squared_error(y_test,y_pred_LR)\n",
        "x1=(np.sqrt(mse))\n",
        "print(x1)"
      ],
      "metadata": {
        "colab": {
          "base_uri": "https://localhost:8080/"
        },
        "id": "smArzbVOR3N4",
        "outputId": "997a0f43-0a79-442c-bffa-3770af9fd0ff"
      },
      "execution_count": null,
      "outputs": [
        {
          "output_type": "stream",
          "name": "stdout",
          "text": [
            "0.03611968\n"
          ]
        }
      ]
    },
    {
      "cell_type": "code",
      "source": [
        "%matplotlib inline"
      ],
      "metadata": {
        "id": "p8kp0zT8-mxC"
      },
      "execution_count": null,
      "outputs": []
    },
    {
      "cell_type": "code",
      "source": [
        "cf_matrix = confusion_matrix(y_test,y_pred_LR)\n",
        "print(cf_matrix)\n",
        "# plt.figure()\n",
        "# cf_matrix = confusion_matrix(y_test,y_pred_LR ))\n",
        "# plt.title('Confusion Matrix: {}'.format(name))\n",
        "ss =  sns.heatmap(cf_matrix, annot = True, fmt = 'g', cmap = sns.cubehelix_palette(as_cmap=True))\n",
        "plt.show()"
      ],
      "metadata": {
        "colab": {
          "base_uri": "https://localhost:8080/",
          "height": 300
        },
        "id": "DeCNs-816f_h",
        "outputId": "9bc9f088-e403-4d57-eb22-e6c21dea87e2"
      },
      "execution_count": null,
      "outputs": [
        {
          "output_type": "stream",
          "name": "stdout",
          "text": [
            "[[1531    2]\n",
            " [   0    0]]\n"
          ]
        },
        {
          "output_type": "display_data",
          "data": {
            "text/plain": [
              "<Figure size 432x288 with 2 Axes>"
            ],
            "image/png": "[encoded data removed]"
          },
          "metadata": {
            "needs_background": "light"
          }
        }
      ]
    },
    {
      "cell_type": "markdown",
      "source": [
        "when training data is 40%"
      ],
      "metadata": {
        "id": "TB99ZUzgS6G-"
      }
    },
    {
      "cell_type": "code",
      "source": [
        "SPLIT = int(0.40*len(xData))\n",
        "\n",
        "x_train = xData[:SPLIT]\n",
        "y_train = yData[:SPLIT]\n",
        "\n",
        "x_test1 = xData[SPLIT:]\n",
        "y_test1 = yData[SPLIT:]"
      ],
      "metadata": {
        "id": "cLetc51fREJN"
      },
      "execution_count": null,
      "outputs": []
    },
    {
      "cell_type": "code",
      "source": [
        "LRclassifier = LogisticRegression(max_iter=1000, random_state=1, solver='liblinear', penalty='l1')\n",
        "LRclassifier.fit(x_train, y_train)\n",
        "\n",
        "y_pred_LR1= LRclassifier.predict(x_test1)"
      ],
      "metadata": {
        "id": "JBAmnm4sRJAU"
      },
      "execution_count": null,
      "outputs": []
    },
    {
      "cell_type": "code",
      "source": [
        "LRAcc1 = accuracy_score(y_pred_LR1, y_test1)\n",
        "print('.:. Logistic Regression Accuracy:'+'\\033[1m {:.2f}%'.format(LRAcc1*100)+' .:.')"
      ],
      "metadata": {
        "colab": {
          "base_uri": "https://localhost:8080/"
        },
        "id": "tOPUnk4HRMvk",
        "outputId": "97f5fad8-e21d-452f-930d-b4daa47b1889"
      },
      "execution_count": null,
      "outputs": [
        {
          "output_type": "stream",
          "name": "stdout",
          "text": [
            ".:. Logistic Regression Accuracy:\u001b[1m 98.11% .:.\n"
          ]
        }
      ]
    },
    {
      "cell_type": "code",
      "source": [
        "from sklearn.metrics import mean_squared_error\n",
        "mse=mean_squared_error(y_test1,y_pred_LR1)\n",
        "x2=(np.sqrt(mse))\n",
        "print(x2)"
      ],
      "metadata": {
        "colab": {
          "base_uri": "https://localhost:8080/"
        },
        "id": "ZQ09S4XgRz3N",
        "outputId": "f28d344e-1167-42d1-b7e2-27cf35ff5cc5"
      },
      "execution_count": null,
      "outputs": [
        {
          "output_type": "stream",
          "name": "stdout",
          "text": [
            "0.13753965\n"
          ]
        }
      ]
    },
    {
      "cell_type": "code",
      "source": [
        "cf_matrix = confusion_matrix(y_test1, y_pred_LR1)\n",
        "plt.title('Confusion Matrix: {}'.format(\"Logstic regression\"))\n",
        "sns.heatmap(cf_matrix, annot = True, fmt = 'g', cmap = sns.cubehelix_palette(as_cmap=True))\n",
        "plt.ylabel('Actual')\n",
        "plt.xlabel('Predicted')\n",
        "plt.show()"
      ],
      "metadata": {
        "colab": {
          "base_uri": "https://localhost:8080/",
          "height": 295
        },
        "id": "e5ZVrefLCS14",
        "outputId": "cac2ff26-d512-497d-c828-0a8c43c6d562"
      },
      "execution_count": null,
      "outputs": [
        {
          "output_type": "display_data",
          "data": {
            "text/plain": [
              "<Figure size 432x288 with 2 Axes>"
            ],
            "image/png": "[encoded data removed]"
          },
          "metadata": {
            "needs_background": "light"
          }
        }
      ]
    },
    {
      "cell_type": "markdown",
      "source": [
        "when training data is 20%"
      ],
      "metadata": {
        "id": "_R7u2ZHbTQpz"
      }
    },
    {
      "cell_type": "code",
      "source": [
        "SPLIT = int(0.20*len(xData))\n",
        "\n",
        "x_train = xData[:SPLIT]\n",
        "y_train = yData[:SPLIT]\n",
        "\n",
        "x_test2 = xData[SPLIT:]\n",
        "y_test2 = yData[SPLIT:]"
      ],
      "metadata": {
        "id": "frkbWlLGh6ke"
      },
      "execution_count": null,
      "outputs": []
    },
    {
      "cell_type": "code",
      "source": [
        "LRclassifier = LogisticRegression(max_iter=1000, random_state=1, solver='liblinear', penalty='l1')\n",
        "LRclassifier.fit(x_train, y_train)\n",
        "\n",
        "y_pred_LR2= LRclassifier.predict(x_test2)"
      ],
      "metadata": {
        "id": "2AJi3Lv-iBan"
      },
      "execution_count": null,
      "outputs": []
    },
    {
      "cell_type": "code",
      "source": [
        "LRAcc2 = accuracy_score(y_pred_LR2, y_test2)\n",
        "print('.:. Logistic Regression Accuracy:'+'\\033[1m {:.2f}%'.format(LRAcc2*100)+' .:.')"
      ],
      "metadata": {
        "colab": {
          "base_uri": "https://localhost:8080/"
        },
        "id": "z5sFyThXiCNE",
        "outputId": "8c2c8cc3-945f-4f68-b130-13d65f707fd4"
      },
      "execution_count": null,
      "outputs": [
        {
          "output_type": "stream",
          "name": "stdout",
          "text": [
            ".:. Logistic Regression Accuracy:\u001b[1m 89.21% .:.\n"
          ]
        }
      ]
    },
    {
      "cell_type": "code",
      "source": [
        "from sklearn.metrics import mean_squared_error\n",
        "mse=mean_squared_error(y_test2,y_pred_LR2)\n",
        "x3=(np.sqrt(mse))\n",
        "print(x3)"
      ],
      "metadata": {
        "colab": {
          "base_uri": "https://localhost:8080/"
        },
        "id": "BXg_GC34hx1Y",
        "outputId": "edae8994-038e-4a70-c266-e60dc10ecee8"
      },
      "execution_count": null,
      "outputs": [
        {
          "output_type": "stream",
          "name": "stdout",
          "text": [
            "0.3284459\n"
          ]
        }
      ]
    },
    {
      "cell_type": "code",
      "source": [
        "cf_matrix = confusion_matrix(y_test2, y_pred_LR2)\n",
        "plt.title('Confusion Matrix: {}'.format(\"Logstic regression\"))\n",
        "sns.heatmap(cf_matrix, annot = True, fmt = 'g', cmap = sns.cubehelix_palette(as_cmap=True))\n",
        "plt.ylabel('Actual')\n",
        "plt.xlabel('Predicted')\n",
        "plt.show()"
      ],
      "metadata": {
        "colab": {
          "base_uri": "https://localhost:8080/",
          "height": 295
        },
        "id": "HM6d5ZjyCagA",
        "outputId": "d232d8e2-ee9b-46e2-f687-a1c42fbebafe"
      },
      "execution_count": null,
      "outputs": [
        {
          "output_type": "display_data",
          "data": {
            "text/plain": [
              "<Figure size 432x288 with 2 Axes>"
            ],
            "image/png": "[encoded data removed]"
          },
          "metadata": {
            "needs_background": "light"
          }
        }
      ]
    },
    {
      "cell_type": "markdown",
      "source": [
        "KNN Model "
      ],
      "metadata": {
        "id": "fYDnjVFsT-W8"
      }
    },
    {
      "cell_type": "markdown",
      "source": [
        "When training data is 70%"
      ],
      "metadata": {
        "id": "GtBFdbKLT6Hu"
      }
    },
    {
      "cell_type": "code",
      "source": [
        "SPLIT = int(0.70*len(xData))\n",
        "\n",
        "x_train = xData[:SPLIT]\n",
        "y_train = yData[:SPLIT]\n",
        "\n",
        "x_test = xData[SPLIT:]\n",
        "y_test = yData[SPLIT:]"
      ],
      "metadata": {
        "id": "hV3_fab7TzWc"
      },
      "execution_count": null,
      "outputs": []
    },
    {
      "cell_type": "code",
      "source": [
        "from sklearn.neighbors import KNeighborsClassifier\n",
        "knn = KNeighborsClassifier(n_neighbors = 2)\n",
        "knn.fit(x_train,y_train)\n",
        "y_pred_knn = knn.predict(x_test)\n",
        "y_pred_prob_knn = knn.predict_proba(x_test)[:, 1]\n",
        "\n",
        "# skplt.metrics.plot_confusion_matrix(y_test, y_pred_knn, figsize=(6,6), cmap= 'YlGnBu');\n",
        "print('Accuracy:', accuracy_score(y_test, y_pred_knn))"
      ],
      "metadata": {
        "colab": {
          "base_uri": "https://localhost:8080/"
        },
        "id": "M-zRJ1QUQdKA",
        "outputId": "01cb5bf3-4515-4a5b-be54-5ae1e08b1c53"
      },
      "execution_count": null,
      "outputs": [
        {
          "output_type": "stream",
          "name": "stdout",
          "text": [
            "Accuracy: 0.9915198956294846\n"
          ]
        }
      ]
    },
    {
      "cell_type": "code",
      "source": [
        "from sklearn.metrics import mean_squared_error\n",
        "mse=mean_squared_error(y_test,y_pred_knn)\n",
        "x1knn=(np.sqrt(mse))\n",
        "print(x1knn)"
      ],
      "metadata": {
        "colab": {
          "base_uri": "https://localhost:8080/"
        },
        "id": "YJlHbJZlUBq7",
        "outputId": "817c0b06-a524-40d7-a935-b3c9765e2746"
      },
      "execution_count": null,
      "outputs": [
        {
          "output_type": "stream",
          "name": "stdout",
          "text": [
            "0.092087485\n"
          ]
        }
      ]
    },
    {
      "cell_type": "code",
      "source": [
        "cf_matrix = confusion_matrix(y_test, y_pred_knn)\n",
        "plt.title('Confusion Matrix: {}'.format(\"KNN Model\"))\n",
        "sns.heatmap(cf_matrix, annot = True, fmt = 'g', cmap = sns.cubehelix_palette(as_cmap=True))\n",
        "plt.ylabel('Actual')\n",
        "plt.xlabel('Predicted')\n",
        "plt.show()"
      ],
      "metadata": {
        "colab": {
          "base_uri": "https://localhost:8080/",
          "height": 295
        },
        "id": "ZbFlqZZHBVUi",
        "outputId": "b0165862-cf35-423a-8a1c-0f9f4819aa47"
      },
      "execution_count": null,
      "outputs": [
        {
          "output_type": "display_data",
          "data": {
            "text/plain": [
              "<Figure size 432x288 with 2 Axes>"
            ],
            "image/png": "[encoded data removed]"
          },
          "metadata": {
            "needs_background": "light"
          }
        }
      ]
    },
    {
      "cell_type": "markdown",
      "source": [
        "when training data is 40%"
      ],
      "metadata": {
        "id": "3veY6fdYURtI"
      }
    },
    {
      "cell_type": "code",
      "source": [
        "SPLIT = int(0.40*len(xData))\n",
        "\n",
        "x_train = xData[:SPLIT]\n",
        "y_train = yData[:SPLIT]\n",
        "\n",
        "x_test = xData[SPLIT:]\n",
        "y_test = yData[SPLIT:]"
      ],
      "metadata": {
        "id": "p1V4mCHjUVe4"
      },
      "execution_count": null,
      "outputs": []
    },
    {
      "cell_type": "code",
      "source": [
        "from sklearn.neighbors import KNeighborsClassifier\n",
        "knn = KNeighborsClassifier(n_neighbors = 2)\n",
        "knn.fit(x_train,y_train)\n",
        "y_pred_knn1 = knn.predict(x_test)\n",
        "y_pred_prob_knn = knn.predict_proba(x_test)[:, 1]\n",
        "\n",
        "# skplt.metrics.plot_confusion_matrix(y_test, y_pred_knn, figsize=(6,6), cmap= 'YlGnBu');\n",
        "print('Accuracy:', accuracy_score(y_test, y_pred_knn1))"
      ],
      "metadata": {
        "id": "_urm7ORIUc-k",
        "colab": {
          "base_uri": "https://localhost:8080/"
        },
        "outputId": "8a79ba49-55df-40a4-c405-d2c69a19ed4e"
      },
      "execution_count": null,
      "outputs": [
        {
          "output_type": "stream",
          "name": "stdout",
          "text": [
            "Accuracy: 0.9748858447488584\n"
          ]
        }
      ]
    },
    {
      "cell_type": "code",
      "source": [
        "from sklearn.metrics import mean_squared_error\n",
        "mse=mean_squared_error(y_test,y_pred_knn1)\n",
        "x2knn=(np.sqrt(mse))\n",
        "print(x2knn)"
      ],
      "metadata": {
        "colab": {
          "base_uri": "https://localhost:8080/"
        },
        "id": "r4z2M1SatnUO",
        "outputId": "182c7ce6-cd29-43e2-b900-61005d25f8d2"
      },
      "execution_count": null,
      "outputs": [
        {
          "output_type": "stream",
          "name": "stdout",
          "text": [
            "0.15847446\n"
          ]
        }
      ]
    },
    {
      "cell_type": "code",
      "source": [
        "cf_matrix = confusion_matrix(y_test1, y_pred_knn1)\n",
        "plt.title('Confusion Matrix: {}'.format(\"KNN Model\"))\n",
        "sns.heatmap(cf_matrix, annot = True, fmt = 'g', cmap = sns.cubehelix_palette(as_cmap=True))\n",
        "plt.ylabel('Actual')\n",
        "plt.xlabel('Predicted')\n",
        "plt.show()"
      ],
      "metadata": {
        "colab": {
          "base_uri": "https://localhost:8080/",
          "height": 295
        },
        "id": "oLHvxmpiCr5z",
        "outputId": "b601296d-babb-48b4-b402-18c72d57ead6"
      },
      "execution_count": null,
      "outputs": [
        {
          "output_type": "display_data",
          "data": {
            "text/plain": [
              "<Figure size 432x288 with 2 Axes>"
            ],
            "image/png": "[encoded data removed]"
          },
          "metadata": {
            "needs_background": "light"
          }
        }
      ]
    },
    {
      "cell_type": "markdown",
      "source": [
        "when training data is 20%"
      ],
      "metadata": {
        "id": "kEjoTKWgt9Vc"
      }
    },
    {
      "cell_type": "code",
      "source": [
        "SPLIT = int(0.20*len(xData))\n",
        "\n",
        "x_train = xData[:SPLIT]\n",
        "y_train = yData[:SPLIT]\n",
        "\n",
        "x_test = xData[SPLIT:]\n",
        "y_test = yData[SPLIT:]"
      ],
      "metadata": {
        "id": "XLxQyMBQt8HZ"
      },
      "execution_count": null,
      "outputs": []
    },
    {
      "cell_type": "code",
      "source": [
        "from sklearn.neighbors import KNeighborsClassifier\n",
        "knn = KNeighborsClassifier(n_neighbors = 2)\n",
        "knn.fit(x_train,y_train)\n",
        "y_pred_knn2 = knn.predict(x_test)\n",
        "y_pred_prob_knn = knn.predict_proba(x_test)[:, 1]\n",
        "\n",
        "# skplt.metrics.plot_confusion_matrix(y_test, y_pred_knn, figsize=(6,6), cmap= 'YlGnBu');\n",
        "print('Accuracy:', accuracy_score(y_test, y_pred_knn2))"
      ],
      "metadata": {
        "colab": {
          "base_uri": "https://localhost:8080/"
        },
        "id": "INonRsrBuE1U",
        "outputId": "1949a479-2a1f-46df-b908-e253fb71ea79"
      },
      "execution_count": null,
      "outputs": [
        {
          "output_type": "stream",
          "name": "stdout",
          "text": [
            "Accuracy: 0.9222113502935421\n"
          ]
        }
      ]
    },
    {
      "cell_type": "code",
      "source": [
        "from sklearn.metrics import mean_squared_error\n",
        "mse=mean_squared_error(y_test,y_pred_knn2)\n",
        "x3knn=(np.sqrt(mse))\n",
        "print(x3knn)"
      ],
      "metadata": {
        "colab": {
          "base_uri": "https://localhost:8080/"
        },
        "id": "6cbIdP17uF4S",
        "outputId": "34da75a9-59c6-4248-e900-9fb4e1e8e89d"
      },
      "execution_count": null,
      "outputs": [
        {
          "output_type": "stream",
          "name": "stdout",
          "text": [
            "0.27890617\n"
          ]
        }
      ]
    },
    {
      "cell_type": "code",
      "source": [
        "cf_matrix = confusion_matrix(y_test2, y_pred_knn2)\n",
        "plt.title('Confusion Matrix: {}'.format(\"KNN Model\"))\n",
        "sns.heatmap(cf_matrix, annot = True, fmt = 'g', cmap = sns.cubehelix_palette(as_cmap=True))\n",
        "plt.ylabel('Actual')\n",
        "plt.xlabel('Predicted')\n",
        "plt.show()"
      ],
      "metadata": {
        "colab": {
          "base_uri": "https://localhost:8080/",
          "height": 295
        },
        "id": "DLEvNWGuCy6C",
        "outputId": "edf46730-2904-48b3-f434-829cc9e1044e"
      },
      "execution_count": null,
      "outputs": [
        {
          "output_type": "display_data",
          "data": {
            "text/plain": [
              "<Figure size 432x288 with 2 Axes>"
            ],
            "image/png": "[encoded data removed]"
          },
          "metadata": {
            "needs_background": "light"
          }
        }
      ]
    },
    {
      "cell_type": "markdown",
      "source": [
        "Not using support vector machine because the accauary given at 70% is very low. So of no use to us"
      ],
      "metadata": {
        "id": "x9CKa8QTvqqO"
      }
    },
    {
      "cell_type": "code",
      "source": [
        "SPLIT = int(0.70*len(xData))\n",
        "\n",
        "x_train = xData[:SPLIT]\n",
        "y_train = yData[:SPLIT]\n",
        "\n",
        "x_test = xData[SPLIT:]\n",
        "y_test = yData[SPLIT:]"
      ],
      "metadata": {
        "id": "H7_8S4LNuaRX"
      },
      "execution_count": null,
      "outputs": []
    },
    {
      "cell_type": "code",
      "source": [
        "from sklearn.svm import SVC\n",
        "SVMclassifier = SVC(kernel='linear', max_iter=1000, C=10, probability=True)\n",
        "SVMclassifier.fit(x_train, y_train)\n",
        "\n",
        "y_pred_SVM = SVMclassifier.predict(x_test)"
      ],
      "metadata": {
        "colab": {
          "base_uri": "https://localhost:8080/"
        },
        "id": "wxEzYuxiQmbS",
        "outputId": "026aa7e7-80dc-4fac-ec7c-bbe2d3e00959"
      },
      "execution_count": null,
      "outputs": [
        {
          "output_type": "stream",
          "name": "stderr",
          "text": [
            "/usr/local/lib/python3.7/dist-packages/sklearn/svm/_base.py:289: ConvergenceWarning: Solver terminated early (max_iter=1000).  Consider pre-processing your data with StandardScaler or MinMaxScaler.\n",
            "  ConvergenceWarning,\n"
          ]
        }
      ]
    },
    {
      "cell_type": "code",
      "source": [
        "SVMAcc = accuracy_score(y_pred_SVM, y_test)\n",
        "print('.:. Support Vector Machine Accuracy:'+'\\033[1m {:.2f}%'.format(SVMAcc*100)+' .:.')"
      ],
      "metadata": {
        "colab": {
          "base_uri": "https://localhost:8080/"
        },
        "id": "mZuFUx-yQqY9",
        "outputId": "f6e29262-aef1-44db-af50-280c4582e5c8"
      },
      "execution_count": null,
      "outputs": [
        {
          "output_type": "stream",
          "name": "stdout",
          "text": [
            ".:. Support Vector Machine Accuracy:\u001b[1m 25.64% .:.\n"
          ]
        }
      ]
    },
    {
      "cell_type": "markdown",
      "source": [
        "Model Random forest classifier"
      ],
      "metadata": {
        "id": "o1BAUkvev5kL"
      }
    },
    {
      "cell_type": "markdown",
      "source": [
        "when training data is 70%"
      ],
      "metadata": {
        "id": "QrFdhn-KuhLj"
      }
    },
    {
      "cell_type": "code",
      "source": [
        "SPLIT = int(0.70*len(xData))\n",
        "\n",
        "x_train = xData[:SPLIT]\n",
        "y_train = yData[:SPLIT]\n",
        "\n",
        "x_test = xData[SPLIT:]\n",
        "y_test = yData[SPLIT:]"
      ],
      "metadata": {
        "id": "LPCL5pGzv5Sl"
      },
      "execution_count": null,
      "outputs": []
    },
    {
      "cell_type": "code",
      "source": [
        "RFclassifier = RandomForestClassifier(n_estimators=1000, random_state=1, max_leaf_nodes=20, min_samples_split=15)\n",
        "\n",
        "RFclassifier.fit(x_train, y_train)\n",
        "y_pred_RF = RFclassifier.predict(x_test)"
      ],
      "metadata": {
        "id": "_rUdVKwDQwPg"
      },
      "execution_count": null,
      "outputs": []
    },
    {
      "cell_type": "code",
      "source": [
        "RFAcc = accuracy_score(y_pred_RF, y_test)\n",
        "print('.:. Random Forest Accuracy:'+'\\033[1m {:.2f}%'.format(RFAcc*100)+' .:.')"
      ],
      "metadata": {
        "colab": {
          "base_uri": "https://localhost:8080/"
        },
        "id": "wpaCuc0aQ3jq",
        "outputId": "a433478a-f633-4f60-fc2c-7d50446a18dd"
      },
      "execution_count": null,
      "outputs": [
        {
          "output_type": "stream",
          "name": "stdout",
          "text": [
            ".:. Random Forest Accuracy:\u001b[1m 100.00% .:.\n"
          ]
        }
      ]
    },
    {
      "cell_type": "code",
      "source": [
        "from sklearn.metrics import mean_squared_error\n",
        "mse=mean_squared_error(y_test,y_pred_RF)\n",
        "x1=(np.sqrt(mse))\n",
        "print(x1)"
      ],
      "metadata": {
        "colab": {
          "base_uri": "https://localhost:8080/"
        },
        "id": "pLz2k_nXv4lc",
        "outputId": "ac59be7a-aefc-4a54-eb2e-4f4ecc33b91e"
      },
      "execution_count": null,
      "outputs": [
        {
          "output_type": "stream",
          "name": "stdout",
          "text": [
            "0.0\n"
          ]
        }
      ]
    },
    {
      "cell_type": "code",
      "source": [
        "cf_matrix = confusion_matrix(y_test, y_pred_RF)\n",
        "plt.title('Confusion Matrix: {}'.format(\"Random Forest\"))\n",
        "sns.heatmap(cf_matrix, annot = True, fmt = 'g', cmap = sns.cubehelix_palette(as_cmap=True))\n",
        "plt.ylabel('Actual')\n",
        "plt.xlabel('Predicted')\n",
        "plt.show()"
      ],
      "metadata": {
        "colab": {
          "base_uri": "https://localhost:8080/",
          "height": 295
        },
        "id": "1lc-Fg3KBlrS",
        "outputId": "5d4f6e41-3a0c-4be0-ec86-b07c7c9ebaef"
      },
      "execution_count": null,
      "outputs": [
        {
          "output_type": "display_data",
          "data": {
            "text/plain": [
              "<Figure size 432x288 with 2 Axes>"
            ],
            "image/png": "[encoded data removed]"
          },
          "metadata": {
            "needs_background": "light"
          }
        }
      ]
    },
    {
      "cell_type": "markdown",
      "source": [
        "when training data is 40%"
      ],
      "metadata": {
        "id": "7Mv5t9GvvvaM"
      }
    },
    {
      "cell_type": "code",
      "source": [
        "SPLIT = int(0.40*len(xData))\n",
        "\n",
        "x_train = xData[:SPLIT]\n",
        "y_train = yData[:SPLIT]\n",
        "\n",
        "x_test = xData[SPLIT:]\n",
        "y_test = yData[SPLIT:]"
      ],
      "metadata": {
        "id": "906RCTAkvLmj"
      },
      "execution_count": null,
      "outputs": []
    },
    {
      "cell_type": "code",
      "source": [
        "RFclassifier = RandomForestClassifier(n_estimators=1000, random_state=1, max_leaf_nodes=20, min_samples_split=15)\n",
        "\n",
        "RFclassifier.fit(x_train, y_train)\n",
        "y_pred_RF1 = RFclassifier.predict(x_test)"
      ],
      "metadata": {
        "id": "fPGcudgIvScx"
      },
      "execution_count": null,
      "outputs": []
    },
    {
      "cell_type": "code",
      "source": [
        "RFAcc1 = accuracy_score(y_pred_RF1, y_test)\n",
        "print('.:. Random Forest Accuracy:'+'\\033[1m {:.2f}%'.format(RFAcc1*100)+' .:.')"
      ],
      "metadata": {
        "colab": {
          "base_uri": "https://localhost:8080/"
        },
        "id": "_F3yKZM8vVMj",
        "outputId": "51a7be66-7e7e-4a5b-9497-e06816a7158d"
      },
      "execution_count": null,
      "outputs": [
        {
          "output_type": "stream",
          "name": "stdout",
          "text": [
            ".:. Random Forest Accuracy:\u001b[1m 99.97% .:.\n"
          ]
        }
      ]
    },
    {
      "cell_type": "code",
      "source": [
        "from sklearn.metrics import mean_squared_error\n",
        "mse=mean_squared_error(y_test,y_pred_RF1)\n",
        "x2=(np.sqrt(mse))\n",
        "print(x2)"
      ],
      "metadata": {
        "colab": {
          "base_uri": "https://localhost:8080/"
        },
        "id": "Jo4rFfk7vfa9",
        "outputId": "87e93c8e-c061-433e-b9e4-57d4de6dad49"
      },
      "execution_count": null,
      "outputs": [
        {
          "output_type": "stream",
          "name": "stdout",
          "text": [
            "0.01805984\n"
          ]
        }
      ]
    },
    {
      "cell_type": "code",
      "source": [
        "cf_matrix = confusion_matrix(y_test1, y_pred_RF1)\n",
        "plt.title('Confusion Matrix: {}'.format(\"Random Forest\"))\n",
        "sns.heatmap(cf_matrix, annot = True, fmt = 'g', cmap = sns.cubehelix_palette(as_cmap=True))\n",
        "plt.ylabel('Actual')\n",
        "plt.xlabel('Predicted')\n",
        "plt.show()"
      ],
      "metadata": {
        "colab": {
          "base_uri": "https://localhost:8080/",
          "height": 295
        },
        "id": "L5apUqw8C_WG",
        "outputId": "e949d005-b9b4-41ba-dc20-ce9d50f371ca"
      },
      "execution_count": null,
      "outputs": [
        {
          "output_type": "display_data",
          "data": {
            "text/plain": [
              "<Figure size 432x288 with 2 Axes>"
            ],
            "image/png": "[encoded data removed]"
          },
          "metadata": {
            "needs_background": "light"
          }
        }
      ]
    },
    {
      "cell_type": "markdown",
      "source": [
        "when training data is 20%"
      ],
      "metadata": {
        "id": "dOwyIkDJvy6J"
      }
    },
    {
      "cell_type": "code",
      "source": [
        "SPLIT = int(0.20*len(xData))\n",
        "\n",
        "x_train = xData[:SPLIT]\n",
        "y_train = yData[:SPLIT]\n",
        "\n",
        "x_test = xData[SPLIT:]\n",
        "y_test = yData[SPLIT:]"
      ],
      "metadata": {
        "id": "fv5WgJGfvsiU"
      },
      "execution_count": null,
      "outputs": []
    },
    {
      "cell_type": "code",
      "source": [
        "RFclassifier = RandomForestClassifier(n_estimators=1000, random_state=1, max_leaf_nodes=20, min_samples_split=15)\n",
        "\n",
        "RFclassifier.fit(x_train, y_train)\n",
        "y_pred_RF2 = RFclassifier.predict(x_test)"
      ],
      "metadata": {
        "id": "cbSRvhsjv25D"
      },
      "execution_count": null,
      "outputs": []
    },
    {
      "cell_type": "code",
      "source": [
        "RFAcc2 = accuracy_score(y_pred_RF2, y_test)\n",
        "print('.:. Random Forest Accuracy:'+'\\033[1m {:.2f}%'.format(RFAcc2*100)+' .:.')"
      ],
      "metadata": {
        "colab": {
          "base_uri": "https://localhost:8080/"
        },
        "id": "fLK8nL-Kv9lc",
        "outputId": "47873f47-a676-4250-9521-0b50d6cb262e"
      },
      "execution_count": null,
      "outputs": [
        {
          "output_type": "stream",
          "name": "stdout",
          "text": [
            ".:. Random Forest Accuracy:\u001b[1m 93.00% .:.\n"
          ]
        }
      ]
    },
    {
      "cell_type": "code",
      "source": [
        "from sklearn.metrics import mean_squared_error\n",
        "mse=mean_squared_error(y_test,y_pred_RF2)\n",
        "x3=(np.sqrt(mse))\n",
        "print(x3)"
      ],
      "metadata": {
        "colab": {
          "base_uri": "https://localhost:8080/"
        },
        "id": "mgt34RLtwIqq",
        "outputId": "a134e492-a97a-40c0-9ea6-fc01ee3b8ff4"
      },
      "execution_count": null,
      "outputs": [
        {
          "output_type": "stream",
          "name": "stdout",
          "text": [
            "0.26450115\n"
          ]
        }
      ]
    },
    {
      "cell_type": "code",
      "source": [
        "cf_matrix = confusion_matrix(y_test2, y_pred_RF2)\n",
        "plt.title('Confusion Matrix: {}'.format(\"Random Forest\"))\n",
        "sns.heatmap(cf_matrix, annot = True, fmt = 'g', cmap = sns.cubehelix_palette(as_cmap=True))\n",
        "plt.ylabel('Actual')\n",
        "plt.xlabel('Predicted')\n",
        "plt.show()"
      ],
      "metadata": {
        "colab": {
          "base_uri": "https://localhost:8080/",
          "height": 295
        },
        "id": "haO91iDADIrW",
        "outputId": "c4d165fb-92b4-44b0-d718-86e20eb0c5bb"
      },
      "execution_count": null,
      "outputs": [
        {
          "output_type": "display_data",
          "data": {
            "text/plain": [
              "<Figure size 432x288 with 2 Axes>"
            ],
            "image/png": "[encoded data removed]"
          },
          "metadata": {
            "needs_background": "light"
          }
        }
      ]
    },
    {
      "cell_type": "markdown",
      "source": [
        " Gradient boosting classifier"
      ],
      "metadata": {
        "id": "qAW8V4p9x7O_"
      }
    },
    {
      "cell_type": "markdown",
      "source": [
        "when training data is 70%"
      ],
      "metadata": {
        "id": "YY3gUbYZyEi6"
      }
    },
    {
      "cell_type": "code",
      "source": [
        "SPLIT = int(0.70*len(xData))\n",
        "\n",
        "x_train = xData[:SPLIT]\n",
        "y_train = yData[:SPLIT]\n",
        "\n",
        "x_test = xData[SPLIT:]\n",
        "y_test = yData[SPLIT:]"
      ],
      "metadata": {
        "id": "zZB5TWNjx62O"
      },
      "execution_count": null,
      "outputs": []
    },
    {
      "cell_type": "code",
      "source": [
        "from sklearn.ensemble import GradientBoostingClassifier\n",
        "GBclassifier = GradientBoostingClassifier(random_state=1, n_estimators=100, max_leaf_nodes=3, loss='exponential', \n",
        "                                          min_samples_leaf=20)\n",
        "\n",
        "GBclassifier.fit(x_train, y_train)\n",
        "y_pred_GB = GBclassifier.predict(x_test)"
      ],
      "metadata": {
        "id": "IS60nTViQ7PA"
      },
      "execution_count": null,
      "outputs": []
    },
    {
      "cell_type": "code",
      "source": [
        "GBAcc = accuracy_score(y_pred_GB, y_test)\n",
        "print('.:. Gradient Boosting Accuracy:'+'\\033[1m {:.2f}%'.format(GBAcc*100)+' .:.')"
      ],
      "metadata": {
        "colab": {
          "base_uri": "https://localhost:8080/"
        },
        "id": "TMkP1nl7Q-fH",
        "outputId": "18b7cc81-9fc4-4bd6-f400-bb5585659ea8"
      },
      "execution_count": null,
      "outputs": [
        {
          "output_type": "stream",
          "name": "stdout",
          "text": [
            ".:. Gradient Boosting Accuracy:\u001b[1m 100.00% .:.\n"
          ]
        }
      ]
    },
    {
      "cell_type": "code",
      "source": [
        "from sklearn.metrics import mean_squared_error\n",
        "mse=mean_squared_error(y_test,y_pred_GB)\n",
        "x1=(np.sqrt(mse))\n",
        "print(x1)"
      ],
      "metadata": {
        "colab": {
          "base_uri": "https://localhost:8080/"
        },
        "id": "cAsdoshfyrYo",
        "outputId": "72e282c7-b283-44d4-9bed-0540113dfb15"
      },
      "execution_count": null,
      "outputs": [
        {
          "output_type": "stream",
          "name": "stdout",
          "text": [
            "0.0\n"
          ]
        }
      ]
    },
    {
      "cell_type": "code",
      "source": [
        "cf_matrix = confusion_matrix(y_test, y_pred_GB)\n",
        "plt.title('Confusion Matrix: {}'.format(\"Gradient boost\"))\n",
        "sns.heatmap(cf_matrix, annot = True, fmt = 'g', cmap = sns.cubehelix_palette(as_cmap=True))\n",
        "plt.ylabel('Actual')\n",
        "plt.xlabel('Predicted')\n",
        "plt.show()"
      ],
      "metadata": {
        "colab": {
          "base_uri": "https://localhost:8080/",
          "height": 295
        },
        "id": "kzhOGqk2CFBz",
        "outputId": "07dbee5a-2ce1-42ff-e1d8-f2aa18667d8e"
      },
      "execution_count": null,
      "outputs": [
        {
          "output_type": "display_data",
          "data": {
            "text/plain": [
              "<Figure size 432x288 with 2 Axes>"
            ],
            "image/png": "[encoded data removed]"
          },
          "metadata": {
            "needs_background": "light"
          }
        }
      ]
    },
    {
      "cell_type": "markdown",
      "source": [
        "when training data is 40%"
      ],
      "metadata": {
        "id": "T8_WxlqzzWLS"
      }
    },
    {
      "cell_type": "code",
      "source": [
        "SPLIT = int(0.40*len(xData))\n",
        "\n",
        "x_train = xData[:SPLIT]\n",
        "y_train = yData[:SPLIT]\n",
        "\n",
        "x_test = xData[SPLIT:]\n",
        "y_test = yData[SPLIT:]"
      ],
      "metadata": {
        "id": "JvwijkHAzS7o"
      },
      "execution_count": null,
      "outputs": []
    },
    {
      "cell_type": "code",
      "source": [
        "from sklearn.ensemble import GradientBoostingClassifier\n",
        "GBclassifier = GradientBoostingClassifier(random_state=1, n_estimators=100, max_leaf_nodes=3, loss='exponential', \n",
        "                                          min_samples_leaf=20)\n",
        "\n",
        "GBclassifier.fit(x_train, y_train)\n",
        "y_pred_GB1 = GBclassifier.predict(x_test)"
      ],
      "metadata": {
        "id": "5ES6ZIzpzVvr"
      },
      "execution_count": null,
      "outputs": []
    },
    {
      "cell_type": "code",
      "source": [
        "GBAcc1 = accuracy_score(y_pred_GB1, y_test)\n",
        "print('.:. Gradient Boosting Accuracy:'+'\\033[1m {:.2f}%'.format(GBAcc1*100)+' .:.')"
      ],
      "metadata": {
        "colab": {
          "base_uri": "https://localhost:8080/"
        },
        "id": "YMCY-iw7zfFK",
        "outputId": "3dd49037-8f74-4620-d244-15dfe691dd3a"
      },
      "execution_count": null,
      "outputs": [
        {
          "output_type": "stream",
          "name": "stdout",
          "text": [
            ".:. Gradient Boosting Accuracy:\u001b[1m 98.21% .:.\n"
          ]
        }
      ]
    },
    {
      "cell_type": "code",
      "source": [
        "from sklearn.metrics import mean_squared_error\n",
        "mse=mean_squared_error(y_test,y_pred_GB1)\n",
        "x2=(np.sqrt(mse))\n",
        "print(x2)"
      ],
      "metadata": {
        "colab": {
          "base_uri": "https://localhost:8080/"
        },
        "id": "qvHIut48z0Ue",
        "outputId": "7f8e9953-ba1f-4236-b2c6-8ef705643a0f"
      },
      "execution_count": null,
      "outputs": [
        {
          "output_type": "stream",
          "name": "stdout",
          "text": [
            "0.13393536\n"
          ]
        }
      ]
    },
    {
      "cell_type": "code",
      "source": [
        "cf_matrix = confusion_matrix(y_test1, y_pred_GB1)\n",
        "plt.title('Confusion Matrix: {}'.format(\"Gradient boost\"))\n",
        "sns.heatmap(cf_matrix, annot = True, fmt = 'g', cmap = sns.cubehelix_palette(as_cmap=True))\n",
        "plt.ylabel('Actual')\n",
        "plt.xlabel('Predicted')\n",
        "plt.show()"
      ],
      "metadata": {
        "colab": {
          "base_uri": "https://localhost:8080/",
          "height": 295
        },
        "id": "YwFHsLEQDPbE",
        "outputId": "acb96da7-c9bc-4aec-c758-da5ed80c528d"
      },
      "execution_count": null,
      "outputs": [
        {
          "output_type": "display_data",
          "data": {
            "text/plain": [
              "<Figure size 432x288 with 2 Axes>"
            ],
            "image/png": "[encoded data removed]"
          },
          "metadata": {
            "needs_background": "light"
          }
        }
      ]
    },
    {
      "cell_type": "markdown",
      "source": [
        "when training data is 20%"
      ],
      "metadata": {
        "id": "S5fp5vnq0bh5"
      }
    },
    {
      "cell_type": "code",
      "source": [
        "SPLIT = int(0.20*len(xData))\n",
        "\n",
        "x_train = xData[:SPLIT]\n",
        "y_train = yData[:SPLIT]\n",
        "\n",
        "x_test = xData[SPLIT:]\n",
        "y_test = yData[SPLIT:]"
      ],
      "metadata": {
        "id": "n8XkTplb0agK"
      },
      "execution_count": null,
      "outputs": []
    },
    {
      "cell_type": "code",
      "source": [
        "from sklearn.ensemble import GradientBoostingClassifier\n",
        "GBclassifier = GradientBoostingClassifier(random_state=1, n_estimators=100, max_leaf_nodes=3, loss='exponential', \n",
        "                                          min_samples_leaf=20)\n",
        "\n",
        "GBclassifier.fit(x_train, y_train)\n",
        "y_pred_GB2 = GBclassifier.predict(x_test)"
      ],
      "metadata": {
        "id": "KSdbp2CX0lRj"
      },
      "execution_count": null,
      "outputs": []
    },
    {
      "cell_type": "code",
      "source": [
        "GBAcc2 = accuracy_score(y_pred_GB2, y_test)\n",
        "print('.:. Gradient Boosting Accuracy:'+'\\033[1m {:.2f}%'.format(GBAcc2*100)+' .:.')"
      ],
      "metadata": {
        "colab": {
          "base_uri": "https://localhost:8080/"
        },
        "id": "u5gx6ApS0pes",
        "outputId": "af602f13-9773-401e-ce00-f74a0ba3b307"
      },
      "execution_count": null,
      "outputs": [
        {
          "output_type": "stream",
          "name": "stdout",
          "text": [
            ".:. Gradient Boosting Accuracy:\u001b[1m 89.75% .:.\n"
          ]
        }
      ]
    },
    {
      "cell_type": "code",
      "source": [
        "from sklearn.metrics import mean_squared_error\n",
        "mse=mean_squared_error(y_test,y_pred_GB2)\n",
        "x3=(np.sqrt(mse))\n",
        "print(x3)"
      ],
      "metadata": {
        "colab": {
          "base_uri": "https://localhost:8080/"
        },
        "id": "ya0rxQaX0qYV",
        "outputId": "fce68f0e-d659-4476-a07c-22f8e97c441a"
      },
      "execution_count": null,
      "outputs": [
        {
          "output_type": "stream",
          "name": "stdout",
          "text": [
            "0.32014856\n"
          ]
        }
      ]
    },
    {
      "cell_type": "code",
      "source": [
        "cf_matrix = confusion_matrix(y_test2, y_pred_GB2)\n",
        "plt.title('Confusion Matrix: {}'.format(\"Gradient boost\"))\n",
        "sns.heatmap(cf_matrix, annot = True, fmt = 'g', cmap = sns.cubehelix_palette(as_cmap=True))\n",
        "plt.ylabel('Actual')\n",
        "plt.xlabel('Predicted')\n",
        "plt.show()"
      ],
      "metadata": {
        "colab": {
          "base_uri": "https://localhost:8080/",
          "height": 295
        },
        "id": "3shVjkmjDUuO",
        "outputId": "49f05120-cb41-4674-e3b9-4d9d32379ce1"
      },
      "execution_count": null,
      "outputs": [
        {
          "output_type": "display_data",
          "data": {
            "text/plain": [
              "<Figure size 432x288 with 2 Axes>"
            ],
            "image/png": "[encoded data removed]"
          },
          "metadata": {
            "needs_background": "light"
          }
        }
      ]
    }
  ]
}